{
 "cells": [
  {
   "cell_type": "markdown",
   "id": "5c44c55a",
   "metadata": {},
   "source": [
    "Question_1"
   ]
  },
  {
   "cell_type": "code",
   "execution_count": 9,
   "id": "05348d57",
   "metadata": {},
   "outputs": [
    {
     "name": "stdout",
     "output_type": "stream",
     "text": [
      "Orignal List: [1, 2, 3, 4, 5, 6, 7, 8, 9]\n",
      "New Modified list is: [1, 2, 3, 7, 8, 9]\n"
     ]
    }
   ],
   "source": [
    "def func1(lst):\n",
    "    if(len(lst)<3):\n",
    "        print(\"The List has Less than 3 Objects\")\n",
    "        lst=lst.clear()\n",
    "        return lst\n",
    "    else:\n",
    "        new_lst=lst[:3]\n",
    "        new_lst=new_lst+lst[-3:]\n",
    "        return new_lst\n",
    "        \n",
    "      \n",
    "orignal_lst=[1,2,3,4,5,6,7,8,9]  \n",
    "print(\"Orignal List:\",orignal_lst) \n",
    "print(\"New Modified list is:\", func1(orignal_lst))\n"
   ]
  },
  {
   "cell_type": "markdown",
   "id": "7e4d0ed3",
   "metadata": {},
   "source": [
    "Question_2"
   ]
  },
  {
   "cell_type": "code",
   "execution_count": 10,
   "id": "30460170",
   "metadata": {},
   "outputs": [
    {
     "name": "stdout",
     "output_type": "stream",
     "text": [
      "Orignal List:  ['apple', 'mango', 'banana', 'grapes', 'oranges']\n",
      "Enter Target you want to find index of: banana\n",
      "Target found at index: 2\n"
     ]
    }
   ],
   "source": [
    "def func2(target,lst):\n",
    "    size=len(lst)\n",
    "    i=0\n",
    "    while(i<size):\n",
    "        if(lst[i]==target):\n",
    "            return i\n",
    "        i=i+1\n",
    "    return -1    \n",
    "\n",
    "lst=[\"apple\",\"mango\",\"banana\",\"grapes\",\"oranges\"]\n",
    "print(\"Orignal List: \", lst)\n",
    "target = input(\"Enter Target you want to find index of: \") \n",
    "index = func2(target,lst)\n",
    "print(\"Target found at index:\", index)"
   ]
  },
  {
   "cell_type": "code",
   "execution_count": null,
   "id": "5a201092",
   "metadata": {},
   "outputs": [],
   "source": []
  }
 ],
 "metadata": {
  "kernelspec": {
   "display_name": "Python 3",
   "language": "python",
   "name": "python3"
  },
  "language_info": {
   "codemirror_mode": {
    "name": "ipython",
    "version": 3
   },
   "file_extension": ".py",
   "mimetype": "text/x-python",
   "name": "python",
   "nbconvert_exporter": "python",
   "pygments_lexer": "ipython3",
   "version": "3.8.8"
  }
 },
 "nbformat": 4,
 "nbformat_minor": 5
}
